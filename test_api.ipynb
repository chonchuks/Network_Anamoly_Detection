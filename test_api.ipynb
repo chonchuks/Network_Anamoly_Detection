{
  "cells": [
    {
      "cell_type": "markdown",
      "metadata": {
        "id": "view-in-github",
        "colab_type": "text"
      },
      "source": [
        "<a href=\"https://colab.research.google.com/github/chonchuks/Network_Anamoly_Detection/blob/main/test_api.ipynb\" target=\"_parent\"><img src=\"https://colab.research.google.com/assets/colab-badge.svg\" alt=\"Open In Colab\"/></a>"
      ]
    },
    {
      "cell_type": "markdown",
      "source": [],
      "metadata": {
        "id": "7FisIUHA0LiY"
      }
    },
    {
      "cell_type": "code",
      "execution_count": null,
      "metadata": {
        "id": "AW51Wf1XFhE9"
      },
      "outputs": [],
      "source": [
        "! pip install fastapi\n",
        "! pip install pyngrok\n",
        "! pip install 'uvicorn[standard]'\n",
        "import os"
      ]
    },
    {
      "cell_type": "code",
      "execution_count": null,
      "metadata": {
        "id": "BzTItLp1I5ph"
      },
      "outputs": [],
      "source": [
        "from google.colab import drive\n",
        "drive.mount('/content/drive')"
      ]
    },
    {
      "cell_type": "code",
      "execution_count": null,
      "metadata": {
        "id": "HqdCbk8B00IP",
        "colab": {
          "base_uri": "https://localhost:8080/"
        },
        "outputId": "0384c7fd-dd3c-4960-878b-fdfa3958fb00"
      },
      "outputs": [
        {
          "output_type": "stream",
          "name": "stdout",
          "text": [
            "unzip:  cannot find or open /content/drive/Othercomputers/My PC/models/Fastapi_Anomaly_detection.zip, /content/drive/Othercomputers/My PC/models/Fastapi_Anomaly_detection.zip.zip or /content/drive/Othercomputers/My PC/models/Fastapi_Anomaly_detection.zip.ZIP.\n"
          ]
        }
      ],
      "source": [
        "# Define the path to the zip file\n",
        "zip_file_path = '/content/drive/Othercomputers/My PC/models/Fastapi_Anomaly_detection.zip'\n",
        "\n",
        "# Define the directory to unzip to\n",
        "unzip_dir = '/content'\n",
        "\n",
        "# Create the directory if it doesn't exist\n",
        "os.makedirs(unzip_dir, exist_ok=True)\n",
        "\n",
        "# Unzip the file to the specified directory\n",
        "!unzip -q \"{zip_file_path}\" -d \"{unzip_dir}\""
      ]
    },
    {
      "cell_type": "code",
      "execution_count": null,
      "metadata": {
        "id": "jVuO3Yd4tdcm"
      },
      "outputs": [],
      "source": [
        "from fastapi import FastAPI\n",
        "from pydantic import BaseModel\n",
        "import numpy as np\n",
        "import pandas as  pd\n",
        "import tensorflow as tf\n",
        "from sklearn.preprocessing import LabelEncoder, StandardScaler\n",
        "from fastapi.middleware.cors import CORSMiddleware\n",
        "\n",
        "app = FastAPI()\n",
        "\n",
        "app.add_middleware(\n",
        "    CORSMiddleware,\n",
        "    allow_origins=['*'],\n",
        "    allow_credentials=True,\n",
        "    allow_methods=['*'],\n",
        "    allow_headers=['*'],\n",
        ")\n",
        "\n",
        "\n",
        "# Load the trained LSTM model\n",
        "model = tf.keras.models.load_model('best_lstm_model.h5')\n",
        "le = LabelEncoder()\n",
        "# Load StandardScaler and its parameters\n",
        "scaler = StandardScaler()\n",
        "scaler.mean_ = np.load('scaler_mean.npy')\n",
        "scaler.scale_ = np.load('scaler_scale.npy')\n",
        "\n",
        "# Define input data model\n",
        "class ModelInput(BaseModel):\n",
        "    duration: float\n",
        "    protocoltype: str\n",
        "    service: str\n",
        "    flag: str\n",
        "    srcbytes: int\n",
        "    dstbytes: int\n",
        "    wrongfragment: int\n",
        "    hot: int\n",
        "    loggedin: int\n",
        "    numcompromised: int\n",
        "    rootshell: int\n",
        "    suattempted: int\n",
        "    numroot: int\n",
        "    numfilecreations: int\n",
        "    numshells: int\n",
        "    numaccessfiles: int\n",
        "    ishostlogin: int\n",
        "    isguestlogin: int\n",
        "    count: int\n",
        "    srvcount: int\n",
        "    serrorrate: float\n",
        "    srvserrorrate: float\n",
        "    rerrorrate: float\n",
        "    srvrerrorrate: float\n",
        "    samesrvrate: float\n",
        "    diffsrvrate: float\n",
        "    srvdiffhostrate: float\n",
        "    dsthostcount: int\n",
        "    dsthostsrvcount: int\n",
        "    dsthostsamesrvrate: float\n",
        "    dsthostdiffsrvrate: float\n",
        "    dsthostsamesrcportrate: float\n",
        "    dsthostsrvdiffhostrate: float\n",
        "    dsthostserrorrate: float\n",
        "    dsthostsrvserrorrate: float\n",
        "    dsthostrerrorrate: float\n",
        "    dsthostsrvrerrorrate: float\n",
        "    lastflag: int\n",
        "\n",
        "\n",
        "def data_processor(df):\n",
        "    df['protocoltype']=le.fit_transform(df['protocoltype'])\n",
        "    df['service']=le.fit_transform(df['service'])\n",
        "    df['flag']=le.fit_transform(df['flag'])\n",
        "    X_test_transformed = scaler.transform(df)\n",
        "    return X_test_transformed\n",
        "\n",
        "\n",
        "# Define the prediction endpoint\n",
        "@app.post(\"/predict\")\n",
        "async def predict(input_data: ModelInput):\n",
        "    # Convert the input data to a dictionary\n",
        "    input_dict = input_data.dict()\n",
        "    df = pd.DataFrame([input_dict])\n",
        "    X_test_transformed = data_processor(df)\n",
        "    X_lstm = np.expand_dims(X_test_transformed, axis=1)  # Shape: (samples, sequence_length, features)\n",
        "\n",
        "    # Predict using the model\n",
        "    prediction = model.predict(X_lstm)\n",
        "    # Define the threshold\n",
        "    threshold = 0.5  # You can adjust this threshold based on your preference or requirements\n",
        "\n",
        "    # Map the prediction to binary outcome\n",
        "    if prediction > threshold:\n",
        "        predicted_class = \" attack \"\n",
        "    else:\n",
        "        predicted_class = \" normal traffic \"\n",
        "\n",
        "    print(\"Predicted class:\", predicted_class)\n",
        "\n",
        "    # Convert the prediction result to a list and return it\n",
        "    return {\"prediction\": predicted_class}"
      ]
    },
    {
      "cell_type": "code",
      "execution_count": null,
      "metadata": {
        "id": "lcfbtSIpCd1j"
      },
      "outputs": [],
      "source": [
        "import nest_asyncio\n",
        "from pyngrok import ngrok\n",
        "import uvicorn\n",
        "from google.colab import userdata\n",
        "\n",
        "auth_token = userdata.get('auth_token')\n",
        "# Set the authtoken\n",
        "ngrok.set_auth_token(auth_token)\n",
        "\n",
        "# Connect to ngrok\n",
        "ngrok_tunnel = ngrok.connect(8000)\n",
        "\n",
        "# Print the public URL\n",
        "print('Public URL:', ngrok_tunnel.public_url)\n",
        "\n",
        "# Apply nest_asyncio\n",
        "nest_asyncio.apply()\n",
        "\n",
        "# Run the uvicorn server\n",
        "uvicorn.run(app, port=8000)"
      ]
    },
    {
      "cell_type": "code",
      "execution_count": null,
      "metadata": {
        "id": "A-887cTXLGl2"
      },
      "outputs": [],
      "source": [
        "{\n",
        "  \"duration\": 0,\n",
        "  \"protocoltype\": \"tcp\",\n",
        "  \"service\": \"ftp_data\",\n",
        "  \"flag\": \"SF\",\n",
        "  \"srcbytes\": 491,\n",
        "  \"dstbytes\": 0,\n",
        "  \"wrongfragment\": 0,\n",
        "  \"hot\": 0,\n",
        "  \"loggedin\": 0,\n",
        "  \"numcompromised\": 0,\n",
        "  \"rootshell\": 0,\n",
        "  \"suattempted\": 0,\n",
        "  \"numroot\": 0,\n",
        "  \"numfilecreations\": 0,\n",
        "  \"numshells\": 0,\n",
        "  \"numaccessfiles\": 0,\n",
        "  \"ishostlogin\": 0,\n",
        "  \"isguestlogin\": 0,\n",
        "  \"count\": 0,\n",
        "  \"srvcount\": 0,\n",
        "  \"serrorrate\": 0,\n",
        "  \"srvserrorrate\": 0,\n",
        "  \"rerrorrate\": 0,\n",
        "  \"srvrerrorrate\": 0,\n",
        "  \"samesrvrate\": 0,\n",
        "  \"diffsrvrate\": 0,\n",
        "  \"srvdiffhostrate\": 0,\n",
        "  \"dsthostcount\": 0,\n",
        "  \"dsthostsrvcount\": 0,\n",
        "  \"dsthostsamesrvrate\": 0.17,\n",
        "  \"dsthostdiffsrvrate\": 0.03,\n",
        "  \"dsthostsamesrcportrate\": 0.17,\n",
        "  \"dsthostsrvdiffhostrate\": 0.00,\n",
        "  \"dsthostserrorrate\": 0.00,\n",
        "  \"dsthostsrvserrorrate\": 0.00,\n",
        "  \"dsthostrerrorrate\": 0.05,\n",
        "  \"dsthostsrvrerrorrate\": 0.00,\n",
        "  \"lastflag\": 20\n",
        "}\n",
        "\n",
        "\n",
        "\n",
        "\n",
        "\n",
        "\n",
        "\n",
        "\n",
        "\n",
        "\n",
        "{\n",
        "  \"duration\": 0,\n",
        "  \"protocoltype\": \"tcp\",\n",
        "  \"service\": \"telnet\",\n",
        "  \"flag\": \"RSTO\",\n",
        "  \"srcbytes\": 0,\n",
        "  \"dstbytes\": 15,\n",
        "  \"wrongfragment\": 0,\n",
        "  \"hot\": 0,\n",
        "  \"loggedin\": 0,\n",
        "  \"numcompromised\": 0,\n",
        "  \"rootshell\": 0,\n",
        "  \"suattempted\": 0,\n",
        "  \"numroot\": 0,\n",
        "  \"numfilecreations\": 0,\n",
        "  \"numshells\": 0,\n",
        "  \"numaccessfiles\": 0,\n",
        "  \"ishostlogin\": 0,\n",
        "  \"isguestlogin\": 0,\n",
        "  \"count\": 0,\n",
        "  \"srvcount\": 0,\n",
        "  \"serrorrate\": 0,\n",
        "  \"srvserrorrate\": 0,\n",
        "  \"rerrorrate\": 0,\n",
        "  \"srvrerrorrate\": 0,\n",
        "  \"samesrvrate\": 0,\n",
        "  \"diffsrvrate\": 0,\n",
        "  \"srvdiffhostrate\": 0,\n",
        "  \"dsthostcount\": 0,\n",
        "  \"dsthostsrvcount\": 0,\n",
        "  \"dsthostsamesrvrate\": 0.31,\n",
        "  \"dsthostdiffsrvrate\": 0.17,\n",
        "  \"dsthostsamesrcportrate\": 0.03,\n",
        "  \"dsthostsrvdiffhostrate\": 0.02,\n",
        "  \"dsthostserrorrate\": 0.0,\n",
        "  \"dsthostsrvserrorrate\": 0.0,\n",
        "  \"dsthostrerrorrate\": 0.83,\n",
        "  \"dsthostsrvrerrorrate\": 0.71,\n",
        "  \"lastflag\": 11\n",
        "}"
      ]
    },
    {
      "cell_type": "code",
      "execution_count": null,
      "metadata": {
        "id": "1u7LVTQVPJea"
      },
      "outputs": [],
      "source": []
    }
  ],
  "metadata": {
    "colab": {
      "provenance": [],
      "include_colab_link": true
    },
    "kernelspec": {
      "display_name": "Python 3",
      "name": "python3"
    },
    "language_info": {
      "name": "python"
    }
  },
  "nbformat": 4,
  "nbformat_minor": 0
}